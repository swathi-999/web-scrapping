{
 "cells": [
  {
   "cell_type": "markdown",
   "metadata": {},
   "source": [
    "# WEB SCRAPING"
   ]
  },
  {
   "cell_type": "markdown",
   "metadata": {},
   "source": [
    "user give input in the format of csv, excel, json\n",
    "\n",
    "we will request fo the page, we will parse and convert the data into csv format."
   ]
  },
  {
   "cell_type": "markdown",
   "metadata": {},
   "source": [
    "# How does Web Scraping work??"
   ]
  },
  {
   "cell_type": "markdown",
   "metadata": {},
   "source": [
    "1) write a code that sends request to the server \n",
    "2) source code\n",
    "3) extract the content - module (beautifulsoup4)\n",
    "BS4 - module to extract the content."
   ]
  },
  {
   "cell_type": "code",
   "execution_count": null,
   "metadata": {},
   "outputs": [],
   "source": [
    "!pip install beautifulsoup4"
   ]
  },
  {
   "cell_type": "code",
   "execution_count": null,
   "metadata": {},
   "outputs": [],
   "source": [
    "!pip install requests"
   ]
  },
  {
   "cell_type": "code",
   "execution_count": 3,
   "metadata": {},
   "outputs": [],
   "source": [
    "import pandas as pd\n",
    "import requests\n",
    "from bs4 import BeautifulSoup"
   ]
  },
  {
   "cell_type": "code",
   "execution_count": 1,
   "metadata": {},
   "outputs": [
    {
     "ename": "NameError",
     "evalue": "name 'requests' is not defined",
     "output_type": "error",
     "traceback": [
      "\u001b[1;31m---------------------------------------------------------------------------\u001b[0m",
      "\u001b[1;31mNameError\u001b[0m                                 Traceback (most recent call last)",
      "\u001b[1;32m<ipython-input-1-7635b225b065>\u001b[0m in \u001b[0;36m<module>\u001b[1;34m\u001b[0m\n\u001b[1;32m----> 1\u001b[1;33m \u001b[0mpage\u001b[0m \u001b[1;33m=\u001b[0m \u001b[0mrequests\u001b[0m\u001b[1;33m.\u001b[0m\u001b[0mget\u001b[0m\u001b[1;33m(\u001b[0m\u001b[1;34m\"https://forecast.weather.gov/MapClick.php?lat=34.05361000000005&lon=-118.24549999999999#.X2gfmmgzbIU\"\u001b[0m\u001b[1;33m)\u001b[0m\u001b[1;33m\u001b[0m\u001b[1;33m\u001b[0m\u001b[0m\n\u001b[0m",
      "\u001b[1;31mNameError\u001b[0m: name 'requests' is not defined"
     ]
    }
   ],
   "source": [
    "page = requests.get(\"https://forecast.weather.gov/MapClick.php?lat=34.05361000000005&lon=-118.24549999999999#.X2gfmmgzbIU\")"
   ]
  },
  {
   "cell_type": "code",
   "execution_count": 5,
   "metadata": {},
   "outputs": [
    {
     "data": {
      "text/plain": [
       "<Response [200]>"
      ]
     },
     "execution_count": 5,
     "metadata": {},
     "output_type": "execute_result"
    }
   ],
   "source": [
    "page   # request is accepted / fullfilled"
   ]
  },
  {
   "cell_type": "code",
   "execution_count": 6,
   "metadata": {},
   "outputs": [],
   "source": [
    "soup = BeautifulSoup(page.content, 'html.parser')"
   ]
  },
  {
   "cell_type": "code",
   "execution_count": 7,
   "metadata": {},
   "outputs": [],
   "source": [
    "#soup"
   ]
  },
  {
   "cell_type": "code",
   "execution_count": 8,
   "metadata": {},
   "outputs": [],
   "source": [
    "week = soup.find(id = \"seven-day-forecast-container\")"
   ]
  },
  {
   "cell_type": "code",
   "execution_count": 9,
   "metadata": {},
   "outputs": [
    {
     "data": {
      "text/plain": [
       "<div id=\"seven-day-forecast-container\"><ul class=\"list-unstyled\" id=\"seven-day-forecast-list\"><li class=\"forecast-tombstone\">\n",
       "<div class=\"tombstone-container\">\n",
       "<p class=\"period-name\">Tonight<br/><br/></p>\n",
       "<p><img alt=\"Tonight: Patchy fog after 11pm.  Otherwise, clear during the early evening, then becoming cloudy, with a low around 62. Calm wind. \" class=\"forecast-icon\" src=\"newimages/medium/nfg.png\" title=\"Tonight: Patchy fog after 11pm.  Otherwise, clear during the early evening, then becoming cloudy, with a low around 62. Calm wind. \"/></p><p class=\"short-desc\">Patchy Fog</p><p class=\"temp temp-low\">Low: 62 °F</p></div></li><li class=\"forecast-tombstone\">\n",
       "<div class=\"tombstone-container\">\n",
       "<p class=\"period-name\">Tuesday<br/><br/></p>\n",
       "<p><img alt=\"Tuesday: Patchy fog before 11am.  Otherwise, cloudy through mid morning, then gradual clearing, with a high near 81. Calm wind becoming south around 5 mph in the afternoon. \" class=\"forecast-icon\" src=\"DualImage.php?i=fg&amp;j=skc\" title=\"Tuesday: Patchy fog before 11am.  Otherwise, cloudy through mid morning, then gradual clearing, with a high near 81. Calm wind becoming south around 5 mph in the afternoon. \"/></p><p class=\"short-desc\">Patchy Fog<br/>then Sunny</p><p class=\"temp temp-high\">High: 81 °F</p></div></li><li class=\"forecast-tombstone\">\n",
       "<div class=\"tombstone-container\">\n",
       "<p class=\"period-name\">Tuesday<br/>Night</p>\n",
       "<p><img alt=\"Tuesday Night: Patchy fog after 11pm.  Otherwise, increasing clouds, with a low around 61. West southwest wind around 5 mph becoming calm  in the evening. \" class=\"forecast-icon\" src=\"newimages/medium/nfg.png\" title=\"Tuesday Night: Patchy fog after 11pm.  Otherwise, increasing clouds, with a low around 61. West southwest wind around 5 mph becoming calm  in the evening. \"/></p><p class=\"short-desc\">Patchy Fog</p><p class=\"temp temp-low\">Low: 61 °F</p></div></li><li class=\"forecast-tombstone\">\n",
       "<div class=\"tombstone-container\">\n",
       "<p class=\"period-name\">Wednesday<br/><br/></p>\n",
       "<p><img alt=\"Wednesday: Patchy fog before 11am.  Otherwise, mostly cloudy through mid morning, then gradual clearing, with a high near 84. Calm wind becoming west southwest around 5 mph in the afternoon. \" class=\"forecast-icon\" src=\"DualImage.php?i=fg&amp;j=skc\" title=\"Wednesday: Patchy fog before 11am.  Otherwise, mostly cloudy through mid morning, then gradual clearing, with a high near 84. Calm wind becoming west southwest around 5 mph in the afternoon. \"/></p><p class=\"short-desc\">Patchy Fog<br/>then Sunny</p><p class=\"temp temp-high\">High: 84 °F</p></div></li><li class=\"forecast-tombstone\">\n",
       "<div class=\"tombstone-container\">\n",
       "<p class=\"period-name\">Wednesday<br/>Night</p>\n",
       "<p><img alt=\"Wednesday Night: Mostly clear, with a low around 63. West southwest wind around 5 mph becoming calm  after midnight. \" class=\"forecast-icon\" src=\"newimages/medium/nfew.png\" title=\"Wednesday Night: Mostly clear, with a low around 63. West southwest wind around 5 mph becoming calm  after midnight. \"/></p><p class=\"short-desc\">Mostly Clear</p><p class=\"temp temp-low\">Low: 63 °F</p></div></li><li class=\"forecast-tombstone\">\n",
       "<div class=\"tombstone-container\">\n",
       "<p class=\"period-name\">Thursday<br/><br/></p>\n",
       "<p><img alt=\"Thursday: Sunny, with a high near 86.\" class=\"forecast-icon\" src=\"newimages/medium/few.png\" title=\"Thursday: Sunny, with a high near 86.\"/></p><p class=\"short-desc\">Sunny</p><p class=\"temp temp-high\">High: 86 °F</p></div></li><li class=\"forecast-tombstone\">\n",
       "<div class=\"tombstone-container\">\n",
       "<p class=\"period-name\">Thursday<br/>Night</p>\n",
       "<p><img alt=\"Thursday Night: Mostly clear, with a low around 62.\" class=\"forecast-icon\" src=\"newimages/medium/nfew.png\" title=\"Thursday Night: Mostly clear, with a low around 62.\"/></p><p class=\"short-desc\">Mostly Clear</p><p class=\"temp temp-low\">Low: 62 °F</p></div></li><li class=\"forecast-tombstone\">\n",
       "<div class=\"tombstone-container\">\n",
       "<p class=\"period-name\">Friday<br/><br/></p>\n",
       "<p><img alt=\"Friday: Sunny, with a high near 81.\" class=\"forecast-icon\" src=\"newimages/medium/few.png\" title=\"Friday: Sunny, with a high near 81.\"/></p><p class=\"short-desc\">Sunny</p><p class=\"temp temp-high\">High: 81 °F</p></div></li><li class=\"forecast-tombstone\">\n",
       "<div class=\"tombstone-container\">\n",
       "<p class=\"period-name\">Friday<br/>Night</p>\n",
       "<p><img alt=\"Friday Night: Mostly clear, with a low around 62.\" class=\"forecast-icon\" src=\"newimages/medium/nfew.png\" title=\"Friday Night: Mostly clear, with a low around 62.\"/></p><p class=\"short-desc\">Mostly Clear</p><p class=\"temp temp-low\">Low: 62 °F</p></div></li></ul></div>"
      ]
     },
     "execution_count": 9,
     "metadata": {},
     "output_type": "execute_result"
    }
   ],
   "source": [
    "week"
   ]
  },
  {
   "cell_type": "code",
   "execution_count": 10,
   "metadata": {},
   "outputs": [],
   "source": [
    "items = week.find_all(class_ = \"forecast-tombstone\")"
   ]
  },
  {
   "cell_type": "code",
   "execution_count": 11,
   "metadata": {},
   "outputs": [
    {
     "data": {
      "text/plain": [
       "[<li class=\"forecast-tombstone\">\n",
       " <div class=\"tombstone-container\">\n",
       " <p class=\"period-name\">Tonight<br/><br/></p>\n",
       " <p><img alt=\"Tonight: Patchy fog after 11pm.  Otherwise, clear during the early evening, then becoming cloudy, with a low around 62. Calm wind. \" class=\"forecast-icon\" src=\"newimages/medium/nfg.png\" title=\"Tonight: Patchy fog after 11pm.  Otherwise, clear during the early evening, then becoming cloudy, with a low around 62. Calm wind. \"/></p><p class=\"short-desc\">Patchy Fog</p><p class=\"temp temp-low\">Low: 62 °F</p></div></li>,\n",
       " <li class=\"forecast-tombstone\">\n",
       " <div class=\"tombstone-container\">\n",
       " <p class=\"period-name\">Tuesday<br/><br/></p>\n",
       " <p><img alt=\"Tuesday: Patchy fog before 11am.  Otherwise, cloudy through mid morning, then gradual clearing, with a high near 81. Calm wind becoming south around 5 mph in the afternoon. \" class=\"forecast-icon\" src=\"DualImage.php?i=fg&amp;j=skc\" title=\"Tuesday: Patchy fog before 11am.  Otherwise, cloudy through mid morning, then gradual clearing, with a high near 81. Calm wind becoming south around 5 mph in the afternoon. \"/></p><p class=\"short-desc\">Patchy Fog<br/>then Sunny</p><p class=\"temp temp-high\">High: 81 °F</p></div></li>,\n",
       " <li class=\"forecast-tombstone\">\n",
       " <div class=\"tombstone-container\">\n",
       " <p class=\"period-name\">Tuesday<br/>Night</p>\n",
       " <p><img alt=\"Tuesday Night: Patchy fog after 11pm.  Otherwise, increasing clouds, with a low around 61. West southwest wind around 5 mph becoming calm  in the evening. \" class=\"forecast-icon\" src=\"newimages/medium/nfg.png\" title=\"Tuesday Night: Patchy fog after 11pm.  Otherwise, increasing clouds, with a low around 61. West southwest wind around 5 mph becoming calm  in the evening. \"/></p><p class=\"short-desc\">Patchy Fog</p><p class=\"temp temp-low\">Low: 61 °F</p></div></li>,\n",
       " <li class=\"forecast-tombstone\">\n",
       " <div class=\"tombstone-container\">\n",
       " <p class=\"period-name\">Wednesday<br/><br/></p>\n",
       " <p><img alt=\"Wednesday: Patchy fog before 11am.  Otherwise, mostly cloudy through mid morning, then gradual clearing, with a high near 84. Calm wind becoming west southwest around 5 mph in the afternoon. \" class=\"forecast-icon\" src=\"DualImage.php?i=fg&amp;j=skc\" title=\"Wednesday: Patchy fog before 11am.  Otherwise, mostly cloudy through mid morning, then gradual clearing, with a high near 84. Calm wind becoming west southwest around 5 mph in the afternoon. \"/></p><p class=\"short-desc\">Patchy Fog<br/>then Sunny</p><p class=\"temp temp-high\">High: 84 °F</p></div></li>,\n",
       " <li class=\"forecast-tombstone\">\n",
       " <div class=\"tombstone-container\">\n",
       " <p class=\"period-name\">Wednesday<br/>Night</p>\n",
       " <p><img alt=\"Wednesday Night: Mostly clear, with a low around 63. West southwest wind around 5 mph becoming calm  after midnight. \" class=\"forecast-icon\" src=\"newimages/medium/nfew.png\" title=\"Wednesday Night: Mostly clear, with a low around 63. West southwest wind around 5 mph becoming calm  after midnight. \"/></p><p class=\"short-desc\">Mostly Clear</p><p class=\"temp temp-low\">Low: 63 °F</p></div></li>,\n",
       " <li class=\"forecast-tombstone\">\n",
       " <div class=\"tombstone-container\">\n",
       " <p class=\"period-name\">Thursday<br/><br/></p>\n",
       " <p><img alt=\"Thursday: Sunny, with a high near 86.\" class=\"forecast-icon\" src=\"newimages/medium/few.png\" title=\"Thursday: Sunny, with a high near 86.\"/></p><p class=\"short-desc\">Sunny</p><p class=\"temp temp-high\">High: 86 °F</p></div></li>,\n",
       " <li class=\"forecast-tombstone\">\n",
       " <div class=\"tombstone-container\">\n",
       " <p class=\"period-name\">Thursday<br/>Night</p>\n",
       " <p><img alt=\"Thursday Night: Mostly clear, with a low around 62.\" class=\"forecast-icon\" src=\"newimages/medium/nfew.png\" title=\"Thursday Night: Mostly clear, with a low around 62.\"/></p><p class=\"short-desc\">Mostly Clear</p><p class=\"temp temp-low\">Low: 62 °F</p></div></li>,\n",
       " <li class=\"forecast-tombstone\">\n",
       " <div class=\"tombstone-container\">\n",
       " <p class=\"period-name\">Friday<br/><br/></p>\n",
       " <p><img alt=\"Friday: Sunny, with a high near 81.\" class=\"forecast-icon\" src=\"newimages/medium/few.png\" title=\"Friday: Sunny, with a high near 81.\"/></p><p class=\"short-desc\">Sunny</p><p class=\"temp temp-high\">High: 81 °F</p></div></li>,\n",
       " <li class=\"forecast-tombstone\">\n",
       " <div class=\"tombstone-container\">\n",
       " <p class=\"period-name\">Friday<br/>Night</p>\n",
       " <p><img alt=\"Friday Night: Mostly clear, with a low around 62.\" class=\"forecast-icon\" src=\"newimages/medium/nfew.png\" title=\"Friday Night: Mostly clear, with a low around 62.\"/></p><p class=\"short-desc\">Mostly Clear</p><p class=\"temp temp-low\">Low: 62 °F</p></div></li>]"
      ]
     },
     "execution_count": 11,
     "metadata": {},
     "output_type": "execute_result"
    }
   ],
   "source": [
    "items"
   ]
  },
  {
   "cell_type": "code",
   "execution_count": 12,
   "metadata": {},
   "outputs": [
    {
     "data": {
      "text/plain": [
       "<li class=\"forecast-tombstone\">\n",
       "<div class=\"tombstone-container\">\n",
       "<p class=\"period-name\">Tonight<br/><br/></p>\n",
       "<p><img alt=\"Tonight: Patchy fog after 11pm.  Otherwise, clear during the early evening, then becoming cloudy, with a low around 62. Calm wind. \" class=\"forecast-icon\" src=\"newimages/medium/nfg.png\" title=\"Tonight: Patchy fog after 11pm.  Otherwise, clear during the early evening, then becoming cloudy, with a low around 62. Calm wind. \"/></p><p class=\"short-desc\">Patchy Fog</p><p class=\"temp temp-low\">Low: 62 °F</p></div></li>"
      ]
     },
     "execution_count": 12,
     "metadata": {},
     "output_type": "execute_result"
    }
   ],
   "source": [
    "items[0]"
   ]
  },
  {
   "cell_type": "code",
   "execution_count": 13,
   "metadata": {},
   "outputs": [
    {
     "data": {
      "text/plain": [
       "<li class=\"forecast-tombstone\">\n",
       "<div class=\"tombstone-container\">\n",
       "<p class=\"period-name\">Tuesday<br/><br/></p>\n",
       "<p><img alt=\"Tuesday: Patchy fog before 11am.  Otherwise, cloudy through mid morning, then gradual clearing, with a high near 81. Calm wind becoming south around 5 mph in the afternoon. \" class=\"forecast-icon\" src=\"DualImage.php?i=fg&amp;j=skc\" title=\"Tuesday: Patchy fog before 11am.  Otherwise, cloudy through mid morning, then gradual clearing, with a high near 81. Calm wind becoming south around 5 mph in the afternoon. \"/></p><p class=\"short-desc\">Patchy Fog<br/>then Sunny</p><p class=\"temp temp-high\">High: 81 °F</p></div></li>"
      ]
     },
     "execution_count": 13,
     "metadata": {},
     "output_type": "execute_result"
    }
   ],
   "source": [
    "items[1]"
   ]
  },
  {
   "cell_type": "code",
   "execution_count": 14,
   "metadata": {},
   "outputs": [
    {
     "data": {
      "text/plain": [
       "<li class=\"forecast-tombstone\">\n",
       "<div class=\"tombstone-container\">\n",
       "<p class=\"period-name\">Tonight<br/><br/></p>\n",
       "<p><img alt=\"Tonight: Patchy fog after 11pm.  Otherwise, clear during the early evening, then becoming cloudy, with a low around 62. Calm wind. \" class=\"forecast-icon\" src=\"newimages/medium/nfg.png\" title=\"Tonight: Patchy fog after 11pm.  Otherwise, clear during the early evening, then becoming cloudy, with a low around 62. Calm wind. \"/></p><p class=\"short-desc\">Patchy Fog</p><p class=\"temp temp-low\">Low: 62 °F</p></div></li>"
      ]
     },
     "execution_count": 14,
     "metadata": {},
     "output_type": "execute_result"
    }
   ],
   "source": [
    "items[0]"
   ]
  },
  {
   "cell_type": "code",
   "execution_count": 15,
   "metadata": {},
   "outputs": [
    {
     "name": "stdout",
     "output_type": "stream",
     "text": [
      "Tonight\n"
     ]
    }
   ],
   "source": [
    "print(items[0].find(class_=\"period-name\").get_text())"
   ]
  },
  {
   "cell_type": "code",
   "execution_count": 16,
   "metadata": {},
   "outputs": [
    {
     "name": "stdout",
     "output_type": "stream",
     "text": [
      "Patchy Fog\n"
     ]
    }
   ],
   "source": [
    "print(items[0].find(class_=\"short-desc\").get_text())"
   ]
  },
  {
   "cell_type": "code",
   "execution_count": 17,
   "metadata": {},
   "outputs": [
    {
     "name": "stdout",
     "output_type": "stream",
     "text": [
      "Low: 62 °F\n"
     ]
    }
   ],
   "source": [
    "print(items[0].find(class_=\"temp\").get_text())"
   ]
  },
  {
   "cell_type": "code",
   "execution_count": 18,
   "metadata": {},
   "outputs": [],
   "source": [
    "period_name = [i.find(class_=\"period-name\").get_text() for i in items]"
   ]
  },
  {
   "cell_type": "code",
   "execution_count": 19,
   "metadata": {},
   "outputs": [
    {
     "data": {
      "text/plain": [
       "['Tonight',\n",
       " 'Tuesday',\n",
       " 'TuesdayNight',\n",
       " 'Wednesday',\n",
       " 'WednesdayNight',\n",
       " 'Thursday',\n",
       " 'ThursdayNight',\n",
       " 'Friday',\n",
       " 'FridayNight']"
      ]
     },
     "execution_count": 19,
     "metadata": {},
     "output_type": "execute_result"
    }
   ],
   "source": [
    "period_name"
   ]
  },
  {
   "cell_type": "code",
   "execution_count": 20,
   "metadata": {},
   "outputs": [],
   "source": [
    "short_desc = [i.find(class_=\"short-desc\").get_text() for i in items]"
   ]
  },
  {
   "cell_type": "code",
   "execution_count": 21,
   "metadata": {},
   "outputs": [
    {
     "data": {
      "text/plain": [
       "['Patchy Fog',\n",
       " 'Patchy Fogthen Sunny',\n",
       " 'Patchy Fog',\n",
       " 'Patchy Fogthen Sunny',\n",
       " 'Mostly Clear',\n",
       " 'Sunny',\n",
       " 'Mostly Clear',\n",
       " 'Sunny',\n",
       " 'Mostly Clear']"
      ]
     },
     "execution_count": 21,
     "metadata": {},
     "output_type": "execute_result"
    }
   ],
   "source": [
    "short_desc"
   ]
  },
  {
   "cell_type": "code",
   "execution_count": 23,
   "metadata": {},
   "outputs": [],
   "source": [
    "temperature = [i.find(class_=\"temp\").get_text() for i in items]"
   ]
  },
  {
   "cell_type": "code",
   "execution_count": 24,
   "metadata": {},
   "outputs": [
    {
     "data": {
      "text/plain": [
       "['Low: 62 °F',\n",
       " 'High: 81 °F',\n",
       " 'Low: 61 °F',\n",
       " 'High: 84 °F',\n",
       " 'Low: 63 °F',\n",
       " 'High: 86 °F',\n",
       " 'Low: 62 °F',\n",
       " 'High: 81 °F',\n",
       " 'Low: 62 °F']"
      ]
     },
     "execution_count": 24,
     "metadata": {},
     "output_type": "execute_result"
    }
   ],
   "source": [
    "temperature"
   ]
  },
  {
   "cell_type": "code",
   "execution_count": null,
   "metadata": {},
   "outputs": [],
   "source": [
    "# we got a list\n",
    "# we are going to convert all these into data frame."
   ]
  },
  {
   "cell_type": "code",
   "execution_count": 27,
   "metadata": {},
   "outputs": [],
   "source": [
    "Weather_LA = pd.DataFrame({\n",
    "    'period': period_name,\n",
    "    'Short_des':short_desc,\n",
    "    'Temperature':temperature\n",
    "})"
   ]
  },
  {
   "cell_type": "code",
   "execution_count": 28,
   "metadata": {},
   "outputs": [
    {
     "data": {
      "text/html": [
       "<div>\n",
       "<style scoped>\n",
       "    .dataframe tbody tr th:only-of-type {\n",
       "        vertical-align: middle;\n",
       "    }\n",
       "\n",
       "    .dataframe tbody tr th {\n",
       "        vertical-align: top;\n",
       "    }\n",
       "\n",
       "    .dataframe thead th {\n",
       "        text-align: right;\n",
       "    }\n",
       "</style>\n",
       "<table border=\"1\" class=\"dataframe\">\n",
       "  <thead>\n",
       "    <tr style=\"text-align: right;\">\n",
       "      <th></th>\n",
       "      <th>period</th>\n",
       "      <th>Short_des</th>\n",
       "      <th>Temperature</th>\n",
       "    </tr>\n",
       "  </thead>\n",
       "  <tbody>\n",
       "    <tr>\n",
       "      <th>0</th>\n",
       "      <td>Tonight</td>\n",
       "      <td>Patchy Fog</td>\n",
       "      <td>Low: 62 °F</td>\n",
       "    </tr>\n",
       "    <tr>\n",
       "      <th>1</th>\n",
       "      <td>Tuesday</td>\n",
       "      <td>Patchy Fogthen Sunny</td>\n",
       "      <td>High: 81 °F</td>\n",
       "    </tr>\n",
       "    <tr>\n",
       "      <th>2</th>\n",
       "      <td>TuesdayNight</td>\n",
       "      <td>Patchy Fog</td>\n",
       "      <td>Low: 61 °F</td>\n",
       "    </tr>\n",
       "    <tr>\n",
       "      <th>3</th>\n",
       "      <td>Wednesday</td>\n",
       "      <td>Patchy Fogthen Sunny</td>\n",
       "      <td>High: 84 °F</td>\n",
       "    </tr>\n",
       "    <tr>\n",
       "      <th>4</th>\n",
       "      <td>WednesdayNight</td>\n",
       "      <td>Mostly Clear</td>\n",
       "      <td>Low: 63 °F</td>\n",
       "    </tr>\n",
       "    <tr>\n",
       "      <th>5</th>\n",
       "      <td>Thursday</td>\n",
       "      <td>Sunny</td>\n",
       "      <td>High: 86 °F</td>\n",
       "    </tr>\n",
       "    <tr>\n",
       "      <th>6</th>\n",
       "      <td>ThursdayNight</td>\n",
       "      <td>Mostly Clear</td>\n",
       "      <td>Low: 62 °F</td>\n",
       "    </tr>\n",
       "    <tr>\n",
       "      <th>7</th>\n",
       "      <td>Friday</td>\n",
       "      <td>Sunny</td>\n",
       "      <td>High: 81 °F</td>\n",
       "    </tr>\n",
       "    <tr>\n",
       "      <th>8</th>\n",
       "      <td>FridayNight</td>\n",
       "      <td>Mostly Clear</td>\n",
       "      <td>Low: 62 °F</td>\n",
       "    </tr>\n",
       "  </tbody>\n",
       "</table>\n",
       "</div>"
      ],
      "text/plain": [
       "           period             Short_des  Temperature\n",
       "0         Tonight            Patchy Fog   Low: 62 °F\n",
       "1         Tuesday  Patchy Fogthen Sunny  High: 81 °F\n",
       "2    TuesdayNight            Patchy Fog   Low: 61 °F\n",
       "3       Wednesday  Patchy Fogthen Sunny  High: 84 °F\n",
       "4  WednesdayNight          Mostly Clear   Low: 63 °F\n",
       "5        Thursday                 Sunny  High: 86 °F\n",
       "6   ThursdayNight          Mostly Clear   Low: 62 °F\n",
       "7          Friday                 Sunny  High: 81 °F\n",
       "8     FridayNight          Mostly Clear   Low: 62 °F"
      ]
     },
     "execution_count": 28,
     "metadata": {},
     "output_type": "execute_result"
    }
   ],
   "source": [
    "Weather_LA"
   ]
  },
  {
   "cell_type": "code",
   "execution_count": 30,
   "metadata": {},
   "outputs": [
    {
     "data": {
      "text/html": [
       "<div>\n",
       "<style scoped>\n",
       "    .dataframe tbody tr th:only-of-type {\n",
       "        vertical-align: middle;\n",
       "    }\n",
       "\n",
       "    .dataframe tbody tr th {\n",
       "        vertical-align: top;\n",
       "    }\n",
       "\n",
       "    .dataframe thead th {\n",
       "        text-align: right;\n",
       "    }\n",
       "</style>\n",
       "<table border=\"1\" class=\"dataframe\">\n",
       "  <thead>\n",
       "    <tr style=\"text-align: right;\">\n",
       "      <th></th>\n",
       "      <th>period</th>\n",
       "      <th>Short_des</th>\n",
       "      <th>Temperature</th>\n",
       "      <th>City</th>\n",
       "    </tr>\n",
       "  </thead>\n",
       "  <tbody>\n",
       "    <tr>\n",
       "      <th>0</th>\n",
       "      <td>Tonight</td>\n",
       "      <td>Patchy Fog</td>\n",
       "      <td>Low: 62 °F</td>\n",
       "      <td>LA</td>\n",
       "    </tr>\n",
       "    <tr>\n",
       "      <th>1</th>\n",
       "      <td>Tuesday</td>\n",
       "      <td>Patchy Fogthen Sunny</td>\n",
       "      <td>High: 81 °F</td>\n",
       "      <td>LA</td>\n",
       "    </tr>\n",
       "    <tr>\n",
       "      <th>2</th>\n",
       "      <td>TuesdayNight</td>\n",
       "      <td>Patchy Fog</td>\n",
       "      <td>Low: 61 °F</td>\n",
       "      <td>LA</td>\n",
       "    </tr>\n",
       "    <tr>\n",
       "      <th>3</th>\n",
       "      <td>Wednesday</td>\n",
       "      <td>Patchy Fogthen Sunny</td>\n",
       "      <td>High: 84 °F</td>\n",
       "      <td>LA</td>\n",
       "    </tr>\n",
       "    <tr>\n",
       "      <th>4</th>\n",
       "      <td>WednesdayNight</td>\n",
       "      <td>Mostly Clear</td>\n",
       "      <td>Low: 63 °F</td>\n",
       "      <td>LA</td>\n",
       "    </tr>\n",
       "    <tr>\n",
       "      <th>5</th>\n",
       "      <td>Thursday</td>\n",
       "      <td>Sunny</td>\n",
       "      <td>High: 86 °F</td>\n",
       "      <td>LA</td>\n",
       "    </tr>\n",
       "    <tr>\n",
       "      <th>6</th>\n",
       "      <td>ThursdayNight</td>\n",
       "      <td>Mostly Clear</td>\n",
       "      <td>Low: 62 °F</td>\n",
       "      <td>LA</td>\n",
       "    </tr>\n",
       "    <tr>\n",
       "      <th>7</th>\n",
       "      <td>Friday</td>\n",
       "      <td>Sunny</td>\n",
       "      <td>High: 81 °F</td>\n",
       "      <td>LA</td>\n",
       "    </tr>\n",
       "    <tr>\n",
       "      <th>8</th>\n",
       "      <td>FridayNight</td>\n",
       "      <td>Mostly Clear</td>\n",
       "      <td>Low: 62 °F</td>\n",
       "      <td>LA</td>\n",
       "    </tr>\n",
       "  </tbody>\n",
       "</table>\n",
       "</div>"
      ],
      "text/plain": [
       "           period             Short_des  Temperature City\n",
       "0         Tonight            Patchy Fog   Low: 62 °F   LA\n",
       "1         Tuesday  Patchy Fogthen Sunny  High: 81 °F   LA\n",
       "2    TuesdayNight            Patchy Fog   Low: 61 °F   LA\n",
       "3       Wednesday  Patchy Fogthen Sunny  High: 84 °F   LA\n",
       "4  WednesdayNight          Mostly Clear   Low: 63 °F   LA\n",
       "5        Thursday                 Sunny  High: 86 °F   LA\n",
       "6   ThursdayNight          Mostly Clear   Low: 62 °F   LA\n",
       "7          Friday                 Sunny  High: 81 °F   LA\n",
       "8     FridayNight          Mostly Clear   Low: 62 °F   LA"
      ]
     },
     "execution_count": 30,
     "metadata": {},
     "output_type": "execute_result"
    }
   ],
   "source": [
    "Weather_LA['City'] = 'LA'\n",
    "Weather_LA"
   ]
  },
  {
   "cell_type": "code",
   "execution_count": null,
   "metadata": {},
   "outputs": [],
   "source": []
  }
 ],
 "metadata": {
  "kernelspec": {
   "display_name": "Python 3",
   "language": "python",
   "name": "python3"
  },
  "language_info": {
   "codemirror_mode": {
    "name": "ipython",
    "version": 3
   },
   "file_extension": ".py",
   "mimetype": "text/x-python",
   "name": "python",
   "nbconvert_exporter": "python",
   "pygments_lexer": "ipython3",
   "version": "3.7.6"
  }
 },
 "nbformat": 4,
 "nbformat_minor": 4
}
